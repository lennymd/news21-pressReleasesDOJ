{
 "cells": [
  {
   "cell_type": "markdown",
   "metadata": {},
   "source": [
    "# Work to Contact DOJ\n",
    "\n",
    "This part of the work is about researching and contacting people who have been involved with the DoJ in the last 9 years. My goal is to get background information on the process of going from criminal referral to trial from the perspective of a prosecutor."
   ]
  },
  {
   "cell_type": "markdown",
   "metadata": {},
   "source": [
    "Starting with the `countedPersons.csv` made in notebook 02, I'm not going to include anybody who was a victim or perpetrator of a hate crime and will be focusing on the people I had previously identified as having been related to DoJ in some capacity. That leaves me with 54 people to contact. I'll make a section with my research about each person."
   ]
  },
  {
   "cell_type": "markdown",
   "metadata": {},
   "source": [
    "### Thomas E. Perez\n",
    "\n",
    "* Name appears 47 times in the press releases I went through.\n",
    "* Was U.S. Assistant Attorney General for Civil Rights 10-8-09 to 07-23-13.\n",
    "* Currently chair of DNC\n",
    "* [Twitter](https://twitter.com/TomPerez)\n",
    "* No email information, but do have the DNC contact form [here](https://my.democrats.org/page/s/contact-the-democrats)"
   ]
  },
  {
   "cell_type": "markdown",
   "metadata": {},
   "source": [
    "### Vanita Gupta\n",
    "\n",
    "* Name appears 36 times in press releases\n",
    "* Was Principal Deputy Assistant Attorney General and acting head of the Civil Rights Division 10-20-14 to 01-20-17\n",
    "* currently President and CEO of the Leadership Conference on Civil and Human Rights.\n",
    "* a [bio](https://civilrights.org/about-us/staff/vanita-gupta-president-ceo/)\n",
    "* [Twitter](https://twitter.com/vanitaguptaCR)\n",
    "* Tried contacting her through “info@civilrights.org” and “press@civilrights.org” together in April.\n",
    "* Her email may be gupta@civilrights.org"
   ]
  },
  {
   "cell_type": "markdown",
   "metadata": {},
   "source": [
    "The original message I had sent to contact Gupta was:\n",
    "\n",
    "\"How could I go about setting up a brief chat with Ms. Vanita Gupta? I’m a graduate student working with News21 on a project related to hat/bias-motivated crime and I had some questions related to the DoJ's process of handling referrals and prosecuting the different federal hate crime statues. I'm trying to better understand the process so I can better look through the LIONS database and any help would be greatly appreciated.\"\n",
    "\n",
    "Looking on it now, this is pretty obtuse and could be made better.\n",
    "\n",
    "Shin Inouye (inouye@civilrights.org) replied to me and said I should contact Muslim Advocates, ADL, or The Lawyers’ Committee for Civil Rights Under Law. I will follow up on this today.  "
   ]
  },
  {
   "cell_type": "markdown",
   "metadata": {},
   "source": [
    "### Saeed a. Mody\n",
    "\n",
    "* Trial attorney, DOJ, Criminal Division since 2010."
   ]
  },
  {
   "cell_type": "markdown",
   "metadata": {},
   "source": [
    "The number for the DOJ Civil Rights division is : (202) 514-4609\n",
    "Based on a press release from A.G. Sessions, their emails are listed as `firstname.[middleinitial.]lastname[potentialnumberhere]@usdoj.gov`"
   ]
  },
  {
   "cell_type": "markdown",
   "metadata": {},
   "source": [
    "### Mark T. Baker \n",
    "* former `Assistant United States Attorney for the District of New Mexico`\n",
    "* mbaker@peiferlaw.com"
   ]
  },
  {
   "cell_type": "markdown",
   "metadata": {},
   "source": [
    "### Jocelyn Samuels\n",
    "* formrer `Director of the Office for Civil Rights at the U.S. Department of Health & Human Services`\n",
    "* former `Acting Assistant Attorney General for Civil Rights`\n",
    "* [UCLA profile](https://law.ucla.edu/faculty/faculty-profiles/jocelyn-f-samuels/)\n",
    "* samuels@law.ucla.edu"
   ]
  },
  {
   "cell_type": "markdown",
   "metadata": {},
   "source": [
    "### Honorable André Birotte Jr.\n",
    "\n",
    "* former `United States Attorney, Central District of California`\n",
    "* Now a District Judge (aka federal judge) since 2014 for United States District Court for the Central District of California\n",
    "* Can't see a good way to contact him through [here](https://www.cacd.uscourts.gov/honorable-andr%C3%A9-birotte-jr). "
   ]
  },
  {
   "cell_type": "markdown",
   "metadata": {},
   "source": [
    "### Cynthia Deitle\n",
    "\n",
    "* https://www.matthewshepard.org/our-team/cynthia-deitle/\n",
    "* 303-830-7400 Ext. 15\n",
    "* Used to work at FBI "
   ]
  },
  {
   "cell_type": "markdown",
   "metadata": {},
   "source": [
    "On Jun 11 I contacted Jocelyn Samuels via email.\n",
    "\n",
    "I got a reply from her the same day. She can't help me much, but she suggested I talk to `Vanita Gupta, who was the head of the Civil Rights Division for the last two years of the Obama Administration and is now at the Leadership Conference on Civil and Human Rights, or Roy Austin, who was the Deputy AAG`"
   ]
  },
  {
   "cell_type": "markdown",
   "metadata": {},
   "source": [
    "### Roy Austin\n",
    "\n",
    "* Deputy Assistant Attorney General\n",
    "* raustin@hwglaw.com\n",
    "* now at a dc firm, [here](https://www.hwglaw.com/team/roy-l-austin-jr/)"
   ]
  },
  {
   "cell_type": "markdown",
   "metadata": {},
   "source": [
    "On June 12, I contacted Roy Austin via email."
   ]
  },
  {
   "cell_type": "markdown",
   "metadata": {},
   "source": [
    "Mark Baker did not prosecute many cases related to hate crimes, so he's not that helpful to us. "
   ]
  },
  {
   "cell_type": "markdown",
   "metadata": {},
   "source": [
    "### Glenda R. Haynes\n",
    "\n",
    "* US Attorney, Southern Mississippi (former?)\n",
    "\n"
   ]
  },
  {
   "cell_type": "markdown",
   "metadata": {},
   "source": [
    "Roy got back to me within 5 minutes. Working with Marie Plecha to schedule a call. "
   ]
  },
  {
   "cell_type": "code",
   "execution_count": null,
   "metadata": {},
   "outputs": [],
   "source": []
  }
 ],
 "metadata": {
  "kernelspec": {
   "display_name": "Python 3",
   "language": "python",
   "name": "python3"
  },
  "language_info": {
   "codemirror_mode": {
    "name": "ipython",
    "version": 3
   },
   "file_extension": ".py",
   "mimetype": "text/x-python",
   "name": "python",
   "nbconvert_exporter": "python",
   "pygments_lexer": "ipython3",
   "version": "3.6.5"
  }
 },
 "nbformat": 4,
 "nbformat_minor": 2
}
